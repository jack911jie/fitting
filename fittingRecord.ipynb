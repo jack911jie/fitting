{
 "cells": [
  {
   "cell_type": "code",
   "execution_count": 28,
   "metadata": {},
   "outputs": [
    {
     "name": "stdout",
     "output_type": "stream",
     "text": [
      "          日期           时间      项目  第一组重量  第一组次数  第二组重量  第二组次数  第三组重量  第三组次数  \\\n",
      "0 2020-06-10  20:30-21:30    高位下拉   30.0   12.0   30.0   12.0   30.0   12.0   \n",
      "1 2020-06-10  20:30-21:30    坐姿划船   25.0   12.0   25.0   12.0   25.0   12.0   \n",
      "2 2020-06-10  20:30-21:30  反握高位下拉   25.0   12.0   25.0   12.0   25.0   12.0   \n",
      "3 2020-06-10  20:30-21:30    风阻单车    NaN    NaN    NaN    NaN    NaN    NaN   \n",
      "4 2020-06-15  20:30-21:30     箭步蹲    0.0   40.0    NaN    NaN    NaN    NaN   \n",
      "5 2020-06-15  20:30-21:30    负重深蹲   40.0   15.0   40.0   15.0   40.0   15.0   \n",
      "6 2020-06-15  20:30-21:30      硬拉   20.0   10.0   20.0   10.0   20.0   10.0   \n",
      "7 2020-06-15  20:30-21:30    风阻单车    NaN    NaN    NaN    NaN    NaN    NaN   \n",
      "\n",
      "   第四组重量  第四组次数  第五组重量  第五组次数    时长   消耗热量 训练过程  \n",
      "0   30.0   12.0   30.0   12.0   NaN    NaN  很用力  \n",
      "1   25.0   12.0   25.0   12.0   NaN    NaN  很用力  \n",
      "2    NaN    NaN    NaN    NaN   NaN    NaN  很用力  \n",
      "3    NaN    NaN    NaN    NaN  30.0  300.0   中等  \n",
      "4    NaN    NaN    NaN    NaN   NaN    NaN   中等  \n",
      "5   30.0   12.0   30.0   12.0   NaN    NaN  很用力  \n",
      "6   20.0   10.0   20.0   10.0   NaN    NaN  很用力  \n",
      "7    NaN    NaN    NaN    NaN  40.0  320.0  很用力  \n"
     ]
    }
   ],
   "source": [
    "import os\n",
    "import json\n",
    "import pandas as pd\n",
    "\n",
    "class Customs:\n",
    "    def __init__(self):\n",
    "        with open('fittingRecord.config','r',encoding='utf-8') as f:\n",
    "            lines=f.readlines()\n",
    "        _line=''\n",
    "        for line in lines:\n",
    "            newLine=line.strip('\\n')\n",
    "            _line=_line+newLine\n",
    "        config=json.loads(_line)\n",
    "        \n",
    "        self.default_dir=config['基本文件夹']\n",
    "        \n",
    "    def read_xlsx(self,cus_name):\n",
    "        cus_dir=os.path.join(self.default_dir,'客户',cus_name)\n",
    "        cus_xlsx=os.path.join(cus_dir,'基本情况及训练记录-'+cus_name+'.xlsx')\n",
    "        \n",
    "        cus_basic=pd.read_excel(cus_xlsx,sheet_name=0,nrows=1)\n",
    "        cus_body=pd.read_excel(cus_xlsx,sheet_name=0,header=None,skiprows=5,names=['日期','身高','体重','BMI','体脂率','胸围','臂围','腰围','臀围','大腿围'])\n",
    "        cus_body.dropna\n",
    "        \n",
    "        cus_train=pd.read_excel(cus_xlsx,sheet_name=1,skiprows=2,names=['日期','时间','项目','第一组重量','第一组次数','第二组重量','第二组次数','第三组重量','第三组次数','第四组重量','第四组次数','第五组重量','第五组次数','时长','消耗热量','训练过程'])\n",
    "        print(cus_train)\n",
    "        \n",
    "    \n",
    "        \n",
    "if __name__=='__main__':\n",
    "    my=Customs()\n",
    "    my.read_xlsx('李测试')"
   ]
  }
 ],
 "metadata": {
  "kernelspec": {
   "display_name": "Python 3",
   "language": "python",
   "name": "python3"
  },
  "language_info": {
   "codemirror_mode": {
    "name": "ipython",
    "version": 3
   },
   "file_extension": ".py",
   "mimetype": "text/x-python",
   "name": "python",
   "nbconvert_exporter": "python",
   "pygments_lexer": "ipython3",
   "version": "3.8.5"
  }
 },
 "nbformat": 4,
 "nbformat_minor": 4
}

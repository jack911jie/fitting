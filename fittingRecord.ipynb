{
 "cells": [
  {
   "cell_type": "code",
   "execution_count": 85,
   "metadata": {},
   "outputs": [
    {
     "data": {
      "image/png": "[encoded data removed]",
      "text/plain": [
       "<Figure size 432x288 with 1 Axes>"
      ]
     },
     "metadata": {
      "needs_background": "light"
     },
     "output_type": "display_data"
    },
    {
     "data": {
      "image/png": "[encoded data removed]",
      "text/plain": [
       "<Figure size 432x288 with 1 Axes>"
      ]
     },
     "metadata": {
      "needs_background": "light"
     },
     "output_type": "display_data"
    },
    {
     "data": {
      "image/png": "[encoded data removed]",
      "text/plain": [
       "<Figure size 432x288 with 1 Axes>"
      ]
     },
     "metadata": {
      "needs_background": "light"
     },
     "output_type": "display_data"
    }
   ],
   "source": [
    "import sys\n",
    "sys.path.append('../mypy/MyModel')\n",
    "import os\n",
    "import json\n",
    "import datetime\n",
    "import pandas as pd\n",
    "import numpy as np\n",
    "import days_calculate\n",
    "import matplotlib.pyplot as plt\n",
    "import matplotlib.ticker as mtick\n",
    "\n",
    "\n",
    "class Customs:\n",
    "    def __init__(self):\n",
    "        with open('fittingRecord.config','r',encoding='utf-8') as f:\n",
    "            lines=f.readlines()\n",
    "        _line=''\n",
    "        for line in lines:\n",
    "            newLine=line.strip('\\n')\n",
    "            _line=_line+newLine\n",
    "        config=json.loads(_line)\n",
    "        \n",
    "        self.default_dir=config['基本文件夹']\n",
    "        \n",
    "        ItemOxy=pd.read_excel(os.path.join(self.default_dir,'训练项目.xlsx'),sheet_name=0,skiprows=0)\n",
    "        self.ItemOxy=ItemOxy['名称'].tolist()        \n",
    "        \n",
    "    def read_xlsx(self,cus_name):\n",
    "        cus_dir=os.path.join(self.default_dir,'客户',cus_name)\n",
    "        cus_xlsx=os.path.join(cus_dir,'基本情况及训练记录-'+cus_name+'.xlsx')\n",
    "        \n",
    "        cus_basic=pd.read_excel(cus_xlsx,sheet_name=0,nrows=1)\n",
    "        cus_basic.dropna(axis=1,how=\"any\",inplace=True)\n",
    "        cus_basic.columns=['姓名','性别','出生日期']\n",
    "        \n",
    "        birthDay=str(cus_basic['出生日期'].tolist()[0])[0:10].replace('-','')\n",
    "        #年龄\n",
    "        age=days_calculate.calculate_age(birthDay)\n",
    "        \n",
    "        cus_body=pd.read_excel(cus_xlsx,sheet_name=0,header=None,skiprows=5,names=['日期','身高','体重','BMI','体脂率','胸围','臂围','腰围','臀围','大腿围'])\n",
    "        cus_body.dropna(axis=0,how=\"any\",inplace=True)\n",
    "        \n",
    "        cus_train=pd.read_excel(cus_xlsx,sheet_name=1,skiprows=1,names=['日期','时间','项目','第1组重量','第1组次数','第2组重量','第2组次数','第3组重量','第3组次数','第4组重量','第4组次数','第5组重量','第5组次数','时长','消耗热量','训练过程'])\n",
    "                \n",
    "        #总的上课次数（统计去重之后的日期）\n",
    "        totalTimes=cus_train['日期'].nunique() \n",
    "        \n",
    "        #第一次上课到今天的日期（统计去重之后的日期）\n",
    "        FirstTrainDate=cus_train['日期'].min().strftime('%Y%m%d')\n",
    "        trainDays=days_calculate.calculate_days(FirstTrainDate)\n",
    "\n",
    "        \n",
    "        out=Vividict()\n",
    "        \n",
    "        #姓名、性别\n",
    "        out['basicInfo']['name']=cus_name\n",
    "        out['basicInfo']['gender']=cus_basic['性别'].tolist()[0]   \n",
    "        out['basicInfo']['age']=age\n",
    "        \n",
    "        out['training']['totalTimes']=totalTimes\n",
    "        \n",
    "        #身体数据     \n",
    "        body=np.array(cus_body.iloc[:,1:]).tolist()\n",
    "        for n,dt in enumerate(cus_body['日期']):\n",
    "            MsrDate=str(dt)[0:10].replace('-','')\n",
    "            out['body'][MsrDate]=body[n]\n",
    "        \n",
    "        \n",
    "        #按日期计算训练项目细节\n",
    "        for dt in cus_train['日期'].unique():        \n",
    "            trainTime=str(dt)[0:10].replace('-','')\n",
    "            today_train=cus_train.loc[cus_train['日期']==trainTime]\n",
    "            trainList=today_train['项目'].tolist()\n",
    "            trainOxyToday=[]\n",
    "            trainNonOxyToday=[]\n",
    "\n",
    "            #训练详细情况（训练项目分类、次数等）\n",
    "            for trainItem in trainList: \n",
    "                if trainItem not in self.ItemOxy: #无氧\n",
    "                    _trainTimes=[]\n",
    "                    for k in range(5):               \n",
    "                        _trainTimes.append(today_train[today_train['项目']==trainItem]['第'+str(k+1)+'组次数'].tolist()[0])\n",
    "                    train_counts=np.array(_trainTimes)\n",
    "                    trainTimes=np.nansum(train_counts) #用np计算NaN值的结果才是准确的\n",
    "    #                 trainNonOxyToday.append([trainItem, trainTimes])\n",
    "                    out['training']['detail'][trainTime]['NonOxy'][trainItem]=trainTimes\n",
    "                else: #有氧\n",
    "                    OxyTime=today_train[today_train['项目']==trainItem]['时长'].tolist()[0]\n",
    "                    Kcal=today_train[today_train['项目']==trainItem]['消耗热量'].tolist()[0]\n",
    "    #                 trainOxyToday.append([trainItem,OxyTime,Kcal])\n",
    "                    out['training']['detail'][trainTime]['Oxy'][trainItem]=[OxyTime,Kcal]\n",
    "\n",
    "        return json.dumps(out)\n",
    "    \n",
    "\n",
    "    def body_chart(self,p):\n",
    "        def bodyMaxMin(df):        \n",
    "            d=Vividict()\n",
    "            \n",
    "            k=list(bodyDataJson.keys())\n",
    "            d['x_axis']=k\n",
    "            d['data']=df.tolist()\n",
    "            d['max']=df.max().tolist()\n",
    "            d['min']=df.min().tolist()\n",
    "            return d\n",
    "        \n",
    "        def draw(df,showYPercent='no'):\n",
    "            \n",
    "            \n",
    "            fig,ax=plt.subplots(1)\n",
    "            plt.plot(df['x_axis'],df['data'],'o-')\n",
    "            plt.ylim((df['min']*0.9,df['max']*1.1))\n",
    "            \n",
    "            if showYPercent=='yes':\n",
    "                fmt='%.2f%%'\n",
    "#                 yticks = mtick.FormatStrFormatter(fmt)\n",
    "#                 ax.yaxis.set_major_formatter(yticks)\n",
    "                ax.yaxis.set_major_formatter(mtick.PercentFormatter(xmax=1, decimals=1))\n",
    "            \n",
    "            plt.show()\n",
    "        \n",
    "        bodyDataJson=json.loads(p)['body']\n",
    "        \n",
    "        bodyData=[]\n",
    "        for k,v in bodyDataJson.items():\n",
    "            bodyData.append(v)\n",
    "            \n",
    "        df_bodyData=pd.DataFrame(bodyData).T\n",
    "        \n",
    "       \n",
    "        wt=bodyMaxMin(df_bodyData.iloc[1,:]) #体重\n",
    "        bmi=bodyMaxMin(df_bodyData.iloc[2,:]) #BMI\n",
    "        bfr=bodyMaxMin(df_bodyData.iloc[3,:]) #体脂率\n",
    "        \n",
    "#         print(bfr)\n",
    "        draw(wt)\n",
    "        draw(bmi)\n",
    "        draw(bfr,showYPercent='yes')\n",
    "        \n",
    "        \n",
    "        \n",
    "#         print(bodyData)\n",
    "        \n",
    "class Vividict(dict):\n",
    "    def __missing__(self, key):\n",
    "        value = self[key] = type(self)()\n",
    "        return value\n",
    "\n",
    "    \n",
    "    \n",
    "        \n",
    "if __name__=='__main__':\n",
    "    my=Customs()\n",
    "    p=my.read_xlsx('李测试')\n",
    "    k=my.body_chart(p)\n",
    "    \n",
    "    \n",
    "#     pp=json.loads(p)\n",
    "#     print(pp)\n",
    "    \n",
    "#     for k,v in pp['body'].items():\n",
    "#         for i in v:\n",
    "#             print(k,i)\n"
   ]
  },
  {
   "cell_type": "code",
   "execution_count": 203,
   "metadata": {},
   "outputs": [
    {
     "name": "stdout",
     "output_type": "stream",
     "text": [
      "1980-05-23 00:00:00 2021-05-23 00:00:00\n"
     ]
    }
   ],
   "source": [
    "import datetime\n",
    "\n",
    "\n",
    "class Vividict(dict):\n",
    "    def __missing__(self, key):\n",
    "        value = self[key] = type(self)()\n",
    "        return value\n",
    "    \n",
    "# d=Vividict()\n",
    "# d['trainItem']['Oxy']['bike']=[30,400]\n",
    "# d['trainItem']['NonOxy']['卷腹']=[0,40]\n",
    "# d['trainItem']['NonOxy']['深蹲']=[0,60]\n",
    "# print(d['trainItem']['NonOxy']['深蹲']\n",
    "      \n",
    "\n",
    "birth_d = datetime.datetime.strptime('19800523', \"%Y%m%d\")\n",
    "today_d = datetime.datetime.now()\n",
    "birth_t = birth_d.replace(year=2021)\n",
    "      \n",
    "print(birth_d,birth_t)"
   ]
  }
 ],
 "metadata": {
  "kernelspec": {
   "display_name": "Python 3",
   "language": "python",
   "name": "python3"
  },
  "language_info": {
   "codemirror_mode": {
    "name": "ipython",
    "version": 3
   },
   "file_extension": ".py",
   "mimetype": "text/x-python",
   "name": "python",
   "nbconvert_exporter": "python",
   "pygments_lexer": "ipython3",
   "version": "3.8.0"
  }
 },
 "nbformat": 4,
 "nbformat_minor": 4
}
